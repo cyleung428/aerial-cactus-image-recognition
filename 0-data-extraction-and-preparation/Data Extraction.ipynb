{
 "cells": [
  {
   "cell_type": "code",
   "execution_count": 2,
   "metadata": {},
   "outputs": [],
   "source": [
    "import pandas as pd\n",
    "from zipfile import ZipFile"
   ]
  },
  {
   "cell_type": "code",
   "execution_count": 24,
   "metadata": {},
   "outputs": [],
   "source": [
    "# Getting the zipfiles\n",
    "train_zip = ZipFile(\"/Users/netinupur/Desktop/machine-learning-project/aerial-cactus-identification/train.zip\") \n",
    "test_zip = ZipFile(\"/Users/netinupur/Desktop/machine-learning-project/aerial-cactus-identification/test.zip\") "
   ]
  },
  {
   "cell_type": "code",
   "execution_count": 25,
   "metadata": {},
   "outputs": [],
   "source": [
    "# Extracting training and test images\n",
    "test_zip.extractall(\"/Users/netinupur/Desktop/machine-learning-project/aerial-cactus-identification\")\n",
    "train_zip.extractall(\"/Users/netinupur/Desktop/machine-learning-project/aerial-cactus-identification\")"
   ]
  },
  {
   "cell_type": "code",
   "execution_count": 21,
   "metadata": {},
   "outputs": [],
   "source": [
    "# Reading in training labels\n",
    "train_labels = pd.read_csv(\"/Users/netinupur/Desktop/machine-learning-project/aerial-cactus-identification/train.csv\")"
   ]
  },
  {
   "cell_type": "code",
   "execution_count": 23,
   "metadata": {},
   "outputs": [
    {
     "data": {
      "text/plain": [
       "(17500, 2)"
      ]
     },
     "execution_count": 23,
     "metadata": {},
     "output_type": "execute_result"
    }
   ],
   "source": [
    "train_labels.shape"
   ]
  }
 ],
 "metadata": {
  "kernelspec": {
   "display_name": "Python 3",
   "language": "python",
   "name": "python3"
  },
  "language_info": {
   "codemirror_mode": {
    "name": "ipython",
    "version": 3
   },
   "file_extension": ".py",
   "mimetype": "text/x-python",
   "name": "python",
   "nbconvert_exporter": "python",
   "pygments_lexer": "ipython3",
   "version": "3.7.1"
  }
 },
 "nbformat": 4,
 "nbformat_minor": 2
}
